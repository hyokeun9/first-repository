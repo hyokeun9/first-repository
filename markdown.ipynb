{
 "cells": [
  {
   "cell_type": "markdown",
   "id": "0f4825a8",
   "metadata": {},
   "source": [
    "# This is a H1\n",
    "## This is a H2\n",
    "### This is a H3\n",
    "#### This is a H4\n",
    "##### This is a H5\n",
    "###### This is a H6"
   ]
  },
  {
   "cell_type": "markdown",
   "id": "3e2c1514",
   "metadata": {},
   "source": [
    "1. 첫번째\n",
    "2. 두번째\n",
    "3. 세번째"
   ]
  },
  {
   "cell_type": "markdown",
   "id": "5e8768a8",
   "metadata": {},
   "source": [
    "- 빨강\n",
    "    * 녹색\n",
    "         + 파랑"
   ]
  },
  {
   "cell_type": "markdown",
   "id": "b841a95e",
   "metadata": {},
   "source": [
    "---"
   ]
  },
  {
   "cell_type": "markdown",
   "id": "048bb8cd",
   "metadata": {},
   "source": [
    "[구글](https://google.com)"
   ]
  },
  {
   "cell_type": "markdown",
   "id": "38ec0624",
   "metadata": {},
   "source": [
    "*single asterisks*  \n",
    "_single underscores_  \n",
    "**double asterisks**  \n",
    "__double underscores__  \n",
    "~~cancelline~~"
   ]
  },
  {
   "cell_type": "code",
   "execution_count": 4,
   "id": "b20cfa6d",
   "metadata": {},
   "outputs": [
    {
     "data": {
      "text/plain": [
       "'  \\nprint(\"hello Markdown\")  \\n'"
      ]
     },
     "execution_count": 4,
     "metadata": {},
     "output_type": "execute_result"
    }
   ],
   "source": [
    "'''  \n",
    "print(\"hello Markdown\")  \n",
    "'''"
   ]
  },
  {
   "cell_type": "markdown",
   "id": "69ef4f02",
   "metadata": {},
   "source": [
    "![Alt text](path/to/img.png)"
   ]
  },
  {
   "cell_type": "markdown",
   "id": "801e3fc5",
   "metadata": {},
   "source": [
    "<img src=\"/path/to/img.jpg\" width=\"450px\" height=\"300px\"></img>"
   ]
  },
  {
   "cell_type": "markdown",
   "id": "0ac959af",
   "metadata": {},
   "source": [
    "- [마크다운 공식 사이트](https://daringfireball.net/projects/markdown/)  \n",
    "- [GitHub](https://github.com/)  \n",
    "- [아이펠](https://aiffel.io/)"
   ]
  },
  {
   "cell_type": "markdown",
   "id": "b525162a",
   "metadata": {},
   "source": []
  },
  {
   "cell_type": "markdown",
   "id": "a5ac92be",
   "metadata": {},
   "source": []
  },
  {
   "cell_type": "markdown",
   "id": "ac9c9e9a",
   "metadata": {},
   "source": []
  }
 ],
 "metadata": {
  "kernelspec": {
   "display_name": "Python 3 (ipykernel)",
   "language": "python",
   "name": "python3"
  },
  "language_info": {
   "codemirror_mode": {
    "name": "ipython",
    "version": 3
   },
   "file_extension": ".py",
   "mimetype": "text/x-python",
   "name": "python",
   "nbconvert_exporter": "python",
   "pygments_lexer": "ipython3",
   "version": "3.9.7"
  }
 },
 "nbformat": 4,
 "nbformat_minor": 5
}
